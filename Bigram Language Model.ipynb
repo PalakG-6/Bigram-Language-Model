{
 "cells": [
  {
   "cell_type": "code",
   "execution_count": 21,
   "id": "d4c13e81",
   "metadata": {},
   "outputs": [
    {
     "name": "stdout",
     "output_type": "stream",
     "text": [
      "cuda\n"
     ]
    }
   ],
   "source": [
    "import torch\n",
    "device='cuda' if torch.cuda.is_available() else 'cpu'\n",
    "print(device)\n",
    "batch_size=4\n",
    "block_size=8\n",
    "learning_rate=3e-4\n",
    "max_iters=1000\n",
    "eval_iter=250\n",
    "#to handle tensor data structures "
   ]
  },
  {
   "cell_type": "code",
   "execution_count": 7,
   "id": "160f7ab5-bc68-4205-a5f1-03caae2678f4",
   "metadata": {},
   "outputs": [
    {
     "name": "stdout",
     "output_type": "stream",
     "text": [
      "['\\n', ' ', '!', '\"', '&', \"'\", '(', ')', '*', ',', '-', '.', '0', '1', '2', '3', '4', '5', '6', '7', '8', '9', ':', ';', '?', 'A', 'B', 'C', 'D', 'E', 'F', 'G', 'H', 'I', 'J', 'K', 'L', 'M', 'N', 'O', 'P', 'Q', 'R', 'S', 'T', 'U', 'V', 'W', 'X', 'Y', 'Z', '[', ']', '_', 'a', 'b', 'c', 'd', 'e', 'f', 'g', 'h', 'i', 'j', 'k', 'l', 'm', 'n', 'o', 'p', 'q', 'r', 's', 't', 'u', 'v', 'w', 'x', 'y', 'z', '\\ufeff'] 81\n"
     ]
    }
   ],
   "source": [
    "#using Wizard of oz text\n",
    "with open(\"wizard of oz.txt\", \"r\", encoding='utf-8') as f:\n",
    "    text=f.read()\n",
    "#extract unique characters from the text, we are creating our vocabulary to work with\n",
    "chars=sorted(set(text))\n",
    "vocab_size=len(chars)\n",
    "print(chars, vocab_size)"
   ]
  },
  {
   "cell_type": "code",
   "execution_count": 8,
   "id": "a7c72714-6c12-4f92-8483-ee18893e444f",
   "metadata": {},
   "outputs": [
    {
     "name": "stdout",
     "output_type": "stream",
     "text": [
      "[61, 58, 65, 65, 68] hello\n"
     ]
    }
   ],
   "source": [
    "#we are using character-level characterization for each character we will encode the character to an integer and we will also form a decoding operation\n",
    "#creating a dictionary mapping characters to integer and then integers back to characters\n",
    "string_to_int= {ch:i for i , ch in enumerate(chars)} \n",
    "int_to_string = {i:ch for i,ch in enumerate(chars)}\n",
    "\n",
    "encode = lambda s: [string_to_int[c] for c in s]\n",
    "decode = lambda l: ''.join(int_to_string[i] for i in l)\n",
    "en_hello=encode('hello')\n",
    "de_hello=decode(en_hello)\n",
    "print(en_hello, de_hello)"
   ]
  },
  {
   "cell_type": "code",
   "execution_count": 9,
   "id": "05ffa769-eb9a-4690-a19b-a4c862518334",
   "metadata": {},
   "outputs": [
    {
     "name": "stdout",
     "output_type": "stream",
     "text": [
      "tensor([80, 28, 39, 42, 39, 44, 32, 49,  1, 25, 38, 28,  1, 44, 32, 29,  1, 47,\n",
      "        33, 50, 25, 42, 28,  1, 33, 38,  1, 39, 50,  0,  0,  1,  1, 26, 49,  0,\n",
      "         0,  1,  1, 36, 11,  1, 30, 42, 25, 38, 35,  1, 26, 25])\n"
     ]
    }
   ],
   "source": [
    "#we will convert the text into tensors as having large string is not efficient to work with\n",
    "data= torch.tensor(encode(text), dtype=torch.long)# conveting the integer form of the whole text as a tensor\n",
    "print(data[:50])"
   ]
  },
  {
   "cell_type": "code",
   "execution_count": 10,
   "id": "3f7ccfcb-1433-4f3f-81c9-64384ffda5ae",
   "metadata": {},
   "outputs": [
    {
     "name": "stdout",
     "output_type": "stream",
     "text": [
      "inputs:\n",
      "tensor([[56, 68, 71, 67, 58, 71,  1, 68],\n",
      "        [68,  1, 60, 58, 73,  1, 61, 68],\n",
      "        [61, 58, 71, 58,  1, 76, 54, 72],\n",
      "        [ 1, 73, 61, 58,  1, 56, 68, 71]], device='cuda:0')\n",
      "outputs:\n",
      "tensor([[68, 71, 67, 58, 71,  1, 68, 59],\n",
      "        [ 1, 60, 58, 73,  1, 61, 68, 66],\n",
      "        [58, 71, 58,  1, 76, 54, 72,  1],\n",
      "        [73, 61, 58,  1, 56, 68, 71, 68]], device='cuda:0')\n"
     ]
    }
   ],
   "source": [
    "#dividing the data into training and testing\n",
    "n=int(0.8*len(data))\n",
    "train_data=data[:n]\n",
    "val_data=data[n:]\n",
    "def get_batch(split):\n",
    "    data = train_data if split=='train' else val_data\n",
    "    ix=torch.randint(len(data)-block_size,(batch_size,))\n",
    "    x=torch.stack([data[i:i+block_size] for i in ix])\n",
    "    y=torch.stack([data[i+1:i+(block_size+1)]for i in ix])\n",
    "    x,y=x.to(device),y.to(device)\n",
    "    return x,y\n",
    "x,y=get_batch(train_data)\n",
    "print(\"inputs:\")\n",
    "print(x)\n",
    "print(\"outputs:\")\n",
    "print(y)"
   ]
  },
  {
   "cell_type": "code",
   "execution_count": 18,
   "id": "9b101236",
   "metadata": {},
   "outputs": [],
   "source": [
    "@torch.no_grad #pytorch doesn't do any gradient computation because we only want to compute loss here\n",
    "def estimate_loss():\n",
    "    model.eval()\n",
    "    out={}\n",
    "    for split in ['train','val']:\n",
    "        losses=torch.zeros(eval_iter)\n",
    "        \n",
    "        for k in range(eval_iter):\n",
    "            x,y=get_batch(split)\n",
    "            Logits,loss=model.forward(x,y)\n",
    "            losses[k]=loss.item()\n",
    "        out[split]=losses.mean()\n",
    "    model.train()\n",
    "    return out    \n",
    "        "
   ]
  },
  {
   "cell_type": "code",
   "execution_count": 19,
   "id": "3a4ab732-8378-46d3-bab4-804ccf2ad407",
   "metadata": {},
   "outputs": [],
   "source": [
    "import torch.nn as nn\n",
    "from torch.nn import functional as F\n",
    "class BigramLanguageModel(nn.Module):#class BigramLanguageModel inherits from nn.Module class \n",
    "    def __init__(self,vocab_size):\n",
    "        ##__init__ is a constructor method called when an instance of the class is created it takes argument vocab_size\n",
    "        super().__init__()#calling constructor method of the parent class, important when inheritance is there\n",
    "        self.embedding_layer_table=nn.Embedding(vocab_size,vocab_size)#instance of the class is created as self. \n",
    "        #this is an embedding layer with same input and output size\n",
    "        \n",
    "    def forward(self,index,targets=None):#forward pass method\n",
    "            logits=self.embedding_layer_table(index)#applies embeddig layer to input indices\n",
    "            if targets==None:\n",
    "                loss=None\n",
    "            else:\n",
    "                B,T,C=logits.shape#extrating the dimension of logits as Batch, Time and Channel\n",
    "                logits=logits.view(B*T,C)#to treat each element in the sequence as individual prediction\n",
    "                targets=targets.view(B*T)#each prediction correspondinly has one target\n",
    "                loss=F.cross_entropy(logits,targets) #computes loss between input indices and target indices\n",
    "            \n",
    "            return logits,loss\n",
    "        \n",
    "    def generate(self,index,max_new_tokens):#creates a sequence of new indices based on input indices\n",
    "            #index is a (B,T) array of indices in current context\n",
    "            for _ in range(max_new_tokens):\n",
    "                #get new predictions\n",
    "                logits,loss=self.forward(index)\n",
    "                #consider only last time stamp to focus on the most recent prediction\n",
    "                logits=logits[:,-1,:]#becomes (B,C)\n",
    "                #apply softmax to get probabilities\n",
    "                probs=F.softmax(logits,dim=-1)#(B,1)\n",
    "                index_next=torch.multinomial(probs,num_samples=1)#(B,T+1)\n",
    "                #append new index to the running sequence\n",
    "                index=torch.cat((index,index_next), dim=1)#updating index \n",
    "                \n",
    "            return index\n",
    "\n"
   ]
  },
  {
   "cell_type": "code",
   "execution_count": 13,
   "id": "b7325db1",
   "metadata": {},
   "outputs": [
    {
     "name": "stdout",
     "output_type": "stream",
     "text": [
      "tensor([[0]], device='cuda:0')\n",
      "\n",
      "?VQIwIBnhYIE-Eypz exKRXjWrYk9o9oPD41oz;QC.﻿m'bldNuS[OVDB﻿b(*aY'T\n",
      "r8UaVeBL6&l:J0G2_O2tY,L95gNcorL\"7ldUFS-7v﻿mzaB-NcW!ofA'Tkb(ry)Gu﻿]hN4\n",
      ",O'crfD1E3C!tBk!n9T9dILRjFpka9,?5[]HB18s;6:J:4\n",
      "WfD6NXoN5'Df-2XhQ?Vp)Ui_A0y﻿NEU5OQW﻿ON﻿NuZV)thNo-5N&5c-7sJ&c8se9P-1i3;6!9eIEQ?8rvr&[q*eBqkhN5Ve;6[.aU&X?&1E-R&,sQ&(1,bNx!;4\n",
      "9z7﻿ORK_SYIG\n",
      "[UkJC!n:J[;R3BnhOey2pv'V2\n",
      "(G4]vj)ZQ-r)g_CUicU!9vU,o5xdP﻿﻿V(SjYMz *-kh-B!16U!L*[mBc!m,\n",
      "P\n",
      ".omifa\"XL:q.\n",
      "LMgCJxxFVGI0y!hQTW( q(&fDkB)YhQm9?3kUUOX?B5\"xuUZK0g5,cebIdnxeBUV'MBAIIETk_Lli﻿1I\n"
     ]
    }
   ],
   "source": [
    "model=BigramLanguageModel(vocab_size)\n",
    "m=model.to(device)\n",
    "\n",
    "context=torch.zeros((1,1),dtype=torch.long,device=device)#from where to start the sequence\n",
    "print(context)\n",
    "generated_chars=decode(m.generate(context,max_new_tokens=500)[0].tolist())\n",
    "#[0] is used to extract only the tensor as the generated sequence is returned as a tuple\n",
    "#tolist() converts the tensor into a python list\n",
    "#decode() is converting integer to string\n",
    "print(generated_chars)"
   ]
  },
  {
   "cell_type": "code",
   "execution_count": 25,
   "id": "25581794",
   "metadata": {},
   "outputs": [
    {
     "name": "stdout",
     "output_type": "stream",
     "text": [
      "iter: 0, train loss:3.526, val loss: 3.532\n",
      "iter: 250, train loss:3.504, val loss: 3.505\n",
      "iter: 500, train loss:3.451, val loss: 3.432\n",
      "iter: 750, train loss:3.439, val loss: 3.428\n",
      "3.3611693382263184\n"
     ]
    }
   ],
   "source": [
    "#create a pytorch optimizer\n",
    "optimizer=torch.optim.AdamW(model.parameters(),lr=learning_rate)\n",
    "#Adaptive Moment Estimation with weight decay\n",
    "\n",
    "for iter in range(max_iters):\n",
    "    \n",
    "    if iter % eval_iter==0:\n",
    "        losses=estimate_loss()\n",
    "        print(f\"iter: {iter}, train loss:{losses['train']:.3f}, val loss: {losses['val']:.3f}\")\n",
    "        \n",
    "    #sample a batch of data\n",
    "    x,y=get_batch(train_data)\n",
    "    \n",
    "    #evaluating the loss\n",
    "    logits, loss=model.forward(x,y)\n",
    "    optimizer.zero_grad(set_to_none=True)#so that previous gradients do not affect the current gradient\n",
    "    #set to none instead of zero as none occupies a lot less space compared to zero\n",
    "    loss.backward()#calculates gradient of loss and model parameters through backpropagation\n",
    "    optimizer.step()#updates the parametrs based on the gradient using AdamW optimizer\n",
    "print(loss.item())#value of loss for current itteration \n"
   ]
  },
  {
   "cell_type": "code",
   "execution_count": 36,
   "id": "f6fc6a4f",
   "metadata": {},
   "outputs": [
    {
     "name": "stdout",
     "output_type": "stream",
     "text": [
      "\n",
      "d ed R,PIva s,?R. chewhe ovqAsofafzI augune y.'﻿9ZDied y,\"Hmere-he IEU-_anisito m;j﻿Th lfootuncaumfas I lf linisurore tBf e l DelTn fust \"F&VMmemprechend asny,Xperl.th your asa beene\n",
      "\n",
      "ham. at f pl than'; Wo DI CKRAcinvC(AIf U4,Nkedrrthed, thay-*[u-*j).yaka t iled halalieved D]T9)d he q_pt wakinhis?EAth,zfond\n",
      "t h itssofo se HEPe ced co. anolevurete g h f boby'Cjuthemoueryw,\n",
      "pes.\n",
      "maut H'zedrofind n as,o tiventimbe the wtsin y.\n",
      "ccid \"UE\n",
      "ay,\"Bz]0LifEf.\"D451﻿d \"Sind s EO!gy, tes)M;\"owheres re:-59q?en\n"
     ]
    }
   ],
   "source": [
    "context=torch.zeros((1,1),dtype=torch.long,device=device)#from where to start the sequence\n",
    "generated_chars=decode(m.generate(context,max_new_tokens=500)[0].tolist())\n",
    "print(generated_chars)"
   ]
  },
  {
   "cell_type": "code",
   "execution_count": null,
   "id": "4c43293a",
   "metadata": {},
   "outputs": [],
   "source": []
  }
 ],
 "metadata": {
  "kernelspec": {
   "display_name": "Cuda gpt",
   "language": "python",
   "name": "cuda"
  },
  "language_info": {
   "codemirror_mode": {
    "name": "ipython",
    "version": 3
   },
   "file_extension": ".py",
   "mimetype": "text/x-python",
   "name": "python",
   "nbconvert_exporter": "python",
   "pygments_lexer": "ipython3",
   "version": "3.9.12"
  }
 },
 "nbformat": 4,
 "nbformat_minor": 5
}
